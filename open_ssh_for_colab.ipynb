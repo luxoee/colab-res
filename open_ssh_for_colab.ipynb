{
  "nbformat": 4,
  "nbformat_minor": 0,
  "metadata": {
    "colab": {
      "name": "open_ssh_for_colab.ipynb",
      "provenance": [],
      "authorship_tag": "ABX9TyM41fYSL4zPiP3tCrh4avlD",
      "include_colab_link": true
    },
    "kernelspec": {
      "name": "python3",
      "display_name": "Python 3"
    }
  },
  "cells": [
    {
      "cell_type": "markdown",
      "metadata": {
        "id": "view-in-github",
        "colab_type": "text"
      },
      "source": [
        "<a href=\"https://colab.research.google.com/github/luxoee/colab-res/blob/master/open_ssh_for_colab.ipynb\" target=\"_parent\"><img src=\"https://colab.research.google.com/assets/colab-badge.svg\" alt=\"Open In Colab\"/></a>"
      ]
    },
    {
      "cell_type": "code",
      "metadata": {
        "id": "AgOJes8JEN9G",
        "colab_type": "code",
        "outputId": "445c2c16-1061-466f-fea5-bcee516a3fea",
        "colab": {
          "base_uri": "https://localhost:8080/",
          "height": 305
        }
      },
      "source": [
        "import random, string, urllib.request, json, getpass\n",
        "\n",
        "#Generate root password\n",
        "# password = ''.join(random.choice(string.ascii_letters + string.digits) for i in range(20))\n",
        "password = 'npcnpc2020'\n",
        "\n",
        "#Download ngrok\n",
        "! wget -q -c -nc https://github.com/ehang-io/nps/releases/download/v0.26.7/linux_amd64_client.tar.gz\n",
        "! tar xvf linux_amd64_client.tar.gz\n",
        "\n",
        "#Setup sshd\n",
        "! apt-get install -qq -o=Dpkg::Use-Pty=0 openssh-server pwgen > /dev/null\n",
        "\n",
        "#Set root password\n",
        "! echo root:$password | chpasswd\n",
        "! mkdir -p /var/run/sshd\n",
        "! echo \"PermitRootLogin yes\" >> /etc/ssh/sshd_config\n",
        "! echo \"PasswordAuthentication yes\" >> /etc/ssh/sshd_config\n",
        "! echo \"LD_LIBRARY_PATH=/usr/lib64-nvidia\" >> /root/.bashrc\n",
        "! echo \"export LD_LIBRARY_PATH\" >> /root/.bashrc\n",
        "\n",
        "#Run sshd\n",
        "get_ipython().system_raw('/usr/sbin/sshd -D &')\n",
        "\n",
        "\n",
        "#Create tunnel\n",
        "get_ipython().system_raw('sed -i \"s#server_addr=.*#server_addr=nps.agmcn.cn:8024#g\" conf/npc.conf')\n",
        "get_ipython().system_raw('sed -i \"s#8080#22#g\" conf/npc.conf')\n",
        "get_ipython().system_raw('./npc &')\n",
        "\n",
        "#Print root password\n",
        "print(f'Root password: {password}')"
      ],
      "execution_count": 0,
      "outputs": [
        {
          "output_type": "stream",
          "text": [
            "npc\n",
            "conf/npc.conf\n",
            "conf/multi_account.conf\n",
            "\n",
            "Creating config file /etc/ssh/sshd_config with new version\n",
            "Creating SSH2 RSA key; this may take some time ...\n",
            "2048 SHA256:NT/MG+AUQ5oAJkEx5lQqhw6Ekpv4BI8W3NXGJGOIOVQ root@e0282f5dcc17 (RSA)\n",
            "Creating SSH2 ECDSA key; this may take some time ...\n",
            "256 SHA256:eqXdGr1taEIK63Ssq7wQaDctdcRn1XNJV+7/1oRSQfM root@e0282f5dcc17 (ECDSA)\n",
            "Creating SSH2 ED25519 key; this may take some time ...\n",
            "256 SHA256:JidXnp0XqbXrh0BvqNVK4Jfesu4lTD9489b0ykfWzRk root@e0282f5dcc17 (ED25519)\n",
            "Created symlink /etc/systemd/system/sshd.service → /lib/systemd/system/ssh.service.\n",
            "Created symlink /etc/systemd/system/multi-user.target.wants/ssh.service → /lib/systemd/system/ssh.service.\n",
            "invoke-rc.d: could not determine current runlevel\n",
            "invoke-rc.d: policy-rc.d denied execution of start.\n",
            "Root password: npcnpc2020\n"
          ],
          "name": "stdout"
        }
      ]
    }
  ]
}